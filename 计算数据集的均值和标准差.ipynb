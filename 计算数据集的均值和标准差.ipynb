{
  "nbformat": 4,
  "nbformat_minor": 0,
  "metadata": {
    "colab": {
      "name": "计算数据集的均值和标准差.ipynb",
      "provenance": [],
      "collapsed_sections": [],
      "authorship_tag": "ABX9TyNLP99OAkRd6BjWllY4HMn1",
      "include_colab_link": true
    },
    "kernelspec": {
      "name": "python3",
      "display_name": "Python 3"
    },
    "language_info": {
      "name": "python"
    },
    "gpuClass": "standard"
  },
  "cells": [
    {
      "cell_type": "markdown",
      "metadata": {
        "id": "view-in-github",
        "colab_type": "text"
      },
      "source": [
        "<a href=\"https://colab.research.google.com/github/yvonwin/jupyter-notebooks/blob/main/%E8%AE%A1%E7%AE%97%E6%95%B0%E6%8D%AE%E9%9B%86%E7%9A%84%E5%9D%87%E5%80%BC%E5%92%8C%E6%A0%87%E5%87%86%E5%B7%AE.ipynb\" target=\"_parent\"><img src=\"https://colab.research.google.com/assets/colab-badge.svg\" alt=\"Open In Colab\"/></a>"
      ]
    },
    {
      "cell_type": "code",
      "execution_count": 1,
      "metadata": {
        "id": "tcgfEX0tKj2w"
      },
      "outputs": [],
      "source": [
        "import torch\n",
        "from torch.serialization import load\n",
        "import torchvision.datasets as datasets\n",
        "import torchvision.transforms as tansformes\n",
        "from torch.utils.data import DataLoader\n",
        "from torchvision.transforms import transforms"
      ]
    },
    {
      "cell_type": "code",
      "source": [
        "train_dataset = datasets.CIFAR10(root='CIFAR/', train=True, transform=transforms.ToTensor(),download=True)\n",
        "train_loader = DataLoader(dataset=train_dataset, batch_size = 64, shuffle=True)"
      ],
      "metadata": {
        "colab": {
          "base_uri": "https://localhost:8080/"
        },
        "id": "3ZPIOg5UKqfl",
        "outputId": "8e6a0021-e3b9-4632-dd01-b92458e63f95"
      },
      "execution_count": 4,
      "outputs": [
        {
          "output_type": "stream",
          "name": "stdout",
          "text": [
            "Files already downloaded and verified\n"
          ]
        }
      ]
    },
    {
      "cell_type": "code",
      "source": [
        "def get_mean_std(loader):\n",
        "    # Var[x] = E[X**2]-E[X]**2\n",
        "    channels_sum,channels_squared_sum,num_batches = 0,0,0\n",
        "    for data, _ in loader:\n",
        "        channels_sum += torch.mean(data, dim=[0,2,3])\n",
        "        channels_squared_sum += torch.mean(data**2, dim=[0,2,3])\n",
        "        num_batches += 1\n",
        "\n",
        "    print(num_batches)\n",
        "    print(channels_sum)\n",
        "    mean = channels_sum/num_batches\n",
        "    std = (channels_squared_sum/num_batches - mean**2) **0.5\n",
        "\n",
        "    return mean,std\n"
      ],
      "metadata": {
        "id": "mC_M3fXyK_O2"
      },
      "execution_count": 5,
      "outputs": []
    },
    {
      "cell_type": "code",
      "source": [
        "mean,std = get_mean_std(train_loader)\n",
        "\n",
        "print(mean)\n",
        "print(std)"
      ],
      "metadata": {
        "colab": {
          "base_uri": "https://localhost:8080/"
        },
        "id": "xfgeRSqcLVnV",
        "outputId": "fa81adf0-ff8b-4435-cd93-bee27f343d51"
      },
      "execution_count": 6,
      "outputs": [
        {
          "output_type": "stream",
          "name": "stdout",
          "text": [
            "782\n",
            "tensor([384.3076, 377.0827, 349.2223])\n",
            "tensor([0.4914, 0.4822, 0.4466])\n",
            "tensor([0.2471, 0.2435, 0.2616])\n"
          ]
        }
      ]
    },
    {
      "cell_type": "code",
      "source": [
        ""
      ],
      "metadata": {
        "id": "ZWgbAEkiLXjA"
      },
      "execution_count": null,
      "outputs": []
    }
  ]
}